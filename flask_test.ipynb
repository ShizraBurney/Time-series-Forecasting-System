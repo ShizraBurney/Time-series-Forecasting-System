{
 "cells": [
  {
   "cell_type": "code",
   "execution_count": 4,
   "id": "045650f4",
   "metadata": {},
   "outputs": [
    {
     "name": "stdout",
     "output_type": "stream",
     "text": [
      " * Serving Flask app '__main__' (lazy loading)\n",
      " * Environment: production\n",
      "\u001b[31m   WARNING: This is a development server. Do not use it in a production deployment.\u001b[0m\n",
      "\u001b[2m   Use a production WSGI server instead.\u001b[0m\n",
      " * Debug mode: on\n"
     ]
    },
    {
     "name": "stderr",
     "output_type": "stream",
     "text": [
      " * Restarting with stat\n"
     ]
    },
    {
     "ename": "SystemExit",
     "evalue": "1",
     "output_type": "error",
     "traceback": [
      "An exception has occurred, use %tb to see the full traceback.\n",
      "\u001b[1;31mSystemExit\u001b[0m\u001b[1;31m:\u001b[0m 1\n"
     ]
    },
    {
     "name": "stderr",
     "output_type": "stream",
     "text": [
      "C:\\Anaconda3\\envs\\tensorr\\lib\\site-packages\\IPython\\core\\interactiveshell.py:3351: UserWarning: To exit: use 'exit', 'quit', or Ctrl-D.\n",
      "  warn(\"To exit: use 'exit', 'quit', or Ctrl-D.\", stacklevel=1)\n"
     ]
    }
   ],
   "source": [
    "from flask import Flask, request, jsonify\n",
    "from tensorflow.keras.models import load_model\n",
    "from joblib import load as joblib_load  # Import joblib load function\n",
    "\n",
    "app = Flask(__name__)\n",
    "\n",
    "model_files = {\n",
    "    'finance_arima': 'C:/Users/OMEN 16/Downloads/trained models/finance_arima.pkl',\n",
    "    'finance_ann': 'C:/Users/OMEN 16/Downloads/trained models/finance_ann.h5',\n",
    "    'finance_hybrid_arima_ann_ann': 'C:/Users/OMEN 16/Downloads/trained models/finance_hybrid_arima_ann_ann.h5',\n",
    "    'energy_arima': 'C:/Users/OMEN 16/Downloads/trained models/energy_arima.pkl',\n",
    "    'energy_ann': 'C:/Users/OMEN 16/Downloads/trained models/energy_ann.h5',\n",
    "    'energy_hybrid_arima_ann': 'C:/Users/OMEN 16/Downloads/trained models/energy_hybrid_arima_ann_ann.h5',\n",
    "    'environmental_arima': 'C:/Users/OMEN 16/Downloads/trained models/environmental_arima.pkl',\n",
    "    'environmental_ann': 'C:/Users/OMEN 16/Downloads/trained models/environmental_ann.h5',\n",
    "    'environmental_hybrid_arima_ann': 'C:/Users/OMEN 16/Downloads/trained models/environmental_hybrid_arima_ann_ann.h5',\n",
    "}\n",
    "\n",
    "models = {}\n",
    "for key, file in model_files.items():\n",
    "    if file.endswith('.h5'):\n",
    "        models[key] = load_model(file)  # Use load_model for Keras .h5 files\n",
    "    else:\n",
    "        with open(file, 'rb') as model_file:\n",
    "            models[key] = joblib_load(model_file)  # Use joblib for other serialized files\n",
    "\n",
    "def generate_forecasts(dataset, model_key):\n",
    "    model = models[model_key]\n",
    "    # Placeholder: Assume data is preprocessed and ready for prediction\n",
    "    # result = model.predict(data)  # Uncomment and use this line if you have data to pass\n",
    "    result = model.predict()  # Simplified for demonstration\n",
    "    return {\"forecast\": result}\n",
    "\n",
    "@app.route('/generate_forecast', methods=['POST'])\n",
    "def generate_forecast_route():\n",
    "    data = request.get_json()\n",
    "    dataset = data['dataset']\n",
    "    model_key = f\"{dataset}_{data['model']}\"  # Adjust this if necessary\n",
    "    forecasts = generate_forecasts(dataset, model_key)\n",
    "    return jsonify(forecasts)\n",
    "\n",
    "if __name__ == '__main__':\n",
    "    app.run(debug=True)\n"
   ]
  },
  {
   "cell_type": "code",
   "execution_count": 9,
   "id": "5ab9dc21",
   "metadata": {},
   "outputs": [
    {
     "name": "stdout",
     "output_type": "stream",
     "text": [
      "The pickle file 'finance_arima.pkl' appears to be intact.\n"
     ]
    }
   ],
   "source": [
    "import joblib\n",
    "\n",
    "def verify_pickle_file(file_path):\n",
    "    try:\n",
    "        # Load the pickle file using joblib\n",
    "        joblib.load(file_path)\n",
    "        print(f\"The pickle file '{file_path}' appears to be intact.\")\n",
    "    except Exception as e:\n",
    "        print(f\"Error loading pickle file '{file_path}': {e}\")\n",
    "\n",
    "# Example usage\n",
    "verify_pickle_file('finance_arima.pkl')\n"
   ]
  },
  {
   "cell_type": "code",
   "execution_count": null,
   "id": "601d20bd",
   "metadata": {},
   "outputs": [
    {
     "name": "stdout",
     "output_type": "stream",
     "text": [
      "ERROR! Session/line number was not unique in database. History logging moved to new session 140\n"
     ]
    }
   ],
   "source": [
    "!pip uninstall tensorflow\n",
    "!pip install tensorflow\n"
   ]
  },
  {
   "cell_type": "code",
   "execution_count": 11,
   "id": "11debd17",
   "metadata": {},
   "outputs": [
    {
     "name": "stdout",
     "output_type": "stream",
     "text": [
      "^C\n"
     ]
    }
   ],
   "source": [
    "!pip uninstall tensorflow-estimator\n"
   ]
  },
  {
   "cell_type": "code",
   "execution_count": 1,
   "id": "682ba5b1",
   "metadata": {},
   "outputs": [
    {
     "name": "stdout",
     "output_type": "stream",
     "text": [
      "2.6.2\n"
     ]
    }
   ],
   "source": [
    "import tensorflow\n",
    "print(tensorflow.__version__)\n",
    "\n"
   ]
  },
  {
   "cell_type": "code",
   "execution_count": 2,
   "id": "d4c46b68",
   "metadata": {},
   "outputs": [
    {
     "ename": "AttributeError",
     "evalue": "module 'tensorflow_estimator._api.v1.estimator' has no attribute 'package'",
     "output_type": "error",
     "traceback": [
      "\u001b[1;31m---------------------------------------------------------------------------\u001b[0m",
      "\u001b[1;31mAttributeError\u001b[0m                            Traceback (most recent call last)",
      "\u001b[1;32m<ipython-input-2-ce90b60f74af>\u001b[0m in \u001b[0;36m<module>\u001b[1;34m\u001b[0m\n\u001b[0;32m      1\u001b[0m \u001b[1;32mfrom\u001b[0m \u001b[0mtensorflow_estimator\u001b[0m \u001b[1;32mimport\u001b[0m \u001b[0mestimator\u001b[0m\u001b[1;33m\u001b[0m\u001b[1;33m\u001b[0m\u001b[0m\n\u001b[1;32m----> 2\u001b[1;33m \u001b[0mprint\u001b[0m\u001b[1;33m(\u001b[0m\u001b[0mestimator\u001b[0m\u001b[1;33m.\u001b[0m\u001b[0mpackage\u001b[0m\u001b[1;33m.\u001b[0m\u001b[0m__version__\u001b[0m\u001b[1;33m)\u001b[0m\u001b[1;33m\u001b[0m\u001b[1;33m\u001b[0m\u001b[0m\n\u001b[0m",
      "\u001b[1;32mC:\\Anaconda3\\envs\\tensorr\\lib\\site-packages\\tensorflow\\python\\util\\module_wrapper.py\u001b[0m in \u001b[0;36m_getattr\u001b[1;34m(self, name)\u001b[0m\n\u001b[0;32m    234\u001b[0m     \"\"\"\n\u001b[0;32m    235\u001b[0m     \u001b[1;32mtry\u001b[0m\u001b[1;33m:\u001b[0m\u001b[1;33m\u001b[0m\u001b[1;33m\u001b[0m\u001b[0m\n\u001b[1;32m--> 236\u001b[1;33m       \u001b[0mattr\u001b[0m \u001b[1;33m=\u001b[0m \u001b[0mgetattr\u001b[0m\u001b[1;33m(\u001b[0m\u001b[0mself\u001b[0m\u001b[1;33m.\u001b[0m\u001b[0m_tfmw_wrapped_module\u001b[0m\u001b[1;33m,\u001b[0m \u001b[0mname\u001b[0m\u001b[1;33m)\u001b[0m\u001b[1;33m\u001b[0m\u001b[1;33m\u001b[0m\u001b[0m\n\u001b[0m\u001b[0;32m    237\u001b[0m     \u001b[1;32mexcept\u001b[0m \u001b[0mAttributeError\u001b[0m\u001b[1;33m:\u001b[0m\u001b[1;33m\u001b[0m\u001b[1;33m\u001b[0m\u001b[0m\n\u001b[0;32m    238\u001b[0m     \u001b[1;31m# Placeholder for Google-internal contrib error\u001b[0m\u001b[1;33m\u001b[0m\u001b[1;33m\u001b[0m\u001b[1;33m\u001b[0m\u001b[0m\n",
      "\u001b[1;31mAttributeError\u001b[0m: module 'tensorflow_estimator._api.v1.estimator' has no attribute 'package'"
     ]
    }
   ],
   "source": [
    "from tensorflow_estimator import estimator\n",
    "print(estimator.package.__version__)"
   ]
  },
  {
   "cell_type": "code",
   "execution_count": 12,
   "id": "1dde69c1",
   "metadata": {},
   "outputs": [
    {
     "name": "stdout",
     "output_type": "stream",
     "text": [
      "Requirement already satisfied: tensorflow-estimator==2.1.0 in c:\\anaconda3\\envs\\tensorr\\lib\\site-packages (2.1.0)\n"
     ]
    }
   ],
   "source": [
    "!pip install tensorflow-estimator==2.1.0\n"
   ]
  },
  {
   "cell_type": "code",
   "execution_count": 5,
   "id": "9c30ce89",
   "metadata": {},
   "outputs": [
    {
     "name": "stdout",
     "output_type": "stream",
     "text": [
      "Name: pandas\n",
      "Version: 1.1.5\n",
      "Summary: Powerful data structures for data analysis, time series, and statistics\n",
      "Home-page: https://pandas.pydata.org\n",
      "Author: \n",
      "Author-email: \n",
      "License: BSD\n",
      "Location: c:\\anaconda3\\envs\\tensorr\\lib\\site-packages\n",
      "Requires: numpy, python-dateutil, pytz\n",
      "Required-by: cmdstanpy, statsmodels\n"
     ]
    }
   ],
   "source": [
    "!pip show pandas\n",
    "\n"
   ]
  },
  {
   "cell_type": "code",
   "execution_count": null,
   "id": "cbb21faa",
   "metadata": {},
   "outputs": [],
   "source": [
    "pip install pandas==1.1.5  # Replace x.x.x with the required version\n"
   ]
  }
 ],
 "metadata": {
  "kernelspec": {
   "display_name": "Python 3",
   "language": "python",
   "name": "python3"
  },
  "language_info": {
   "codemirror_mode": {
    "name": "ipython",
    "version": 3
   },
   "file_extension": ".py",
   "mimetype": "text/x-python",
   "name": "python",
   "nbconvert_exporter": "python",
   "pygments_lexer": "ipython3",
   "version": "3.6.13"
  }
 },
 "nbformat": 4,
 "nbformat_minor": 5
}
